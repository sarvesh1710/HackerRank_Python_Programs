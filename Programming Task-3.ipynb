{
 "cells": [
  {
   "cell_type": "code",
   "execution_count": null,
   "id": "d4a03b4b",
   "metadata": {},
   "outputs": [],
   "source": [
    "z = complex(input())\n",
    "p = cmath.polar(z)\n",
    "print(p[0])\n",
    "print(p[1])"
   ]
  },
  {
   "cell_type": "code",
   "execution_count": null,
   "id": "91df6875",
   "metadata": {},
   "outputs": [],
   "source": [
    "import cmath\n",
    "\n",
    "z = complex(input())\n",
    "p = cmath.polar(z)\n",
    "print(p[0])\n",
    "print(p[1])\n"
   ]
  },
  {
   "cell_type": "code",
   "execution_count": null,
   "id": "617a7e8f",
   "metadata": {},
   "outputs": [],
   "source": [
    "\n",
    "for i in range(1, int(input()) + 1):\n",
    "    print(((10**i - 1) // 9) ** 2)\n"
   ]
  },
  {
   "cell_type": "code",
   "execution_count": null,
   "id": "08faa965",
   "metadata": {},
   "outputs": [],
   "source": [
    "a = int(input())\n",
    "b = int(input())\n",
    "d = divmod(a, b)\n",
    "print(d[0])\n",
    "print(d[1])\n",
    "print(d)"
   ]
  },
  {
   "cell_type": "code",
   "execution_count": null,
   "id": "0ff6a7f1",
   "metadata": {},
   "outputs": [],
   "source": [
    "a = int(input())\n",
    "b = int(input())\n",
    "c = int(input())\n",
    "print(pow(a, b))\n",
    "print(pow(a, b, c))"
   ]
  },
  {
   "cell_type": "code",
   "execution_count": null,
   "id": "3062e5c4",
   "metadata": {},
   "outputs": [],
   "source": [
    "for i in range(1, int(input())):\n",
    "    print(i * ((10**i - 1) // 9))"
   ]
  }
 ],
 "metadata": {
  "kernelspec": {
   "display_name": "Python 3",
   "language": "python",
   "name": "python3"
  },
  "language_info": {
   "codemirror_mode": {
    "name": "ipython",
    "version": 3
   },
   "file_extension": ".py",
   "mimetype": "text/x-python",
   "name": "python",
   "nbconvert_exporter": "python",
   "pygments_lexer": "ipython3",
   "version": "3.8.8"
  }
 },
 "nbformat": 4,
 "nbformat_minor": 5
}
