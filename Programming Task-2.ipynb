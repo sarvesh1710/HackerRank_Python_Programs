{
 "cells": [
  {
   "cell_type": "code",
   "execution_count": null,
   "id": "470673a4",
   "metadata": {},
   "outputs": [],
   "source": [
    "if __name__ == \"__main__\":\n",
    "    n = int(input())\n",
    "    arr = map(int, input().split())\n",
    "    print(sorted(set(arr), reverse=True)[1])\n"
   ]
  },
  {
   "cell_type": "code",
   "execution_count": null,
   "id": "7445e7cf",
   "metadata": {},
   "outputs": [],
   "source": [
    "if __name__ == \"__main__\":\n",
    "    x = int(input())\n",
    "    y = int(input())\n",
    "    z = int(input())\n",
    "    n = int(input())\n",
    "    ar = [\n",
    "        [i, j, k]\n",
    "        for i in range(x + 1)\n",
    "        for j in range(y + 1)\n",
    "        for k in range(z + 1)\n",
    "        if i + j + k != n\n",
    "    ]\n",
    "    print(ar)"
   ]
  },
  {
   "cell_type": "code",
   "execution_count": null,
   "id": "11dadef0",
   "metadata": {},
   "outputs": [],
   "source": [
    "if __name__ == \"__main__\":\n",
    "    x = int(input())\n",
    "    y = int(input())\n",
    "    z = int(input())\n",
    "    n = int(input())\n",
    "    ar = [\n",
    "        [i, j, k]\n",
    "        for i in range(x + 1)\n",
    "        for j in range(y + 1)\n",
    "        for k in range(z + 1)\n",
    "        if i + j + k != n\n",
    "    ]\n",
    "    print(ar)\n"
   ]
  },
  {
   "cell_type": "code",
   "execution_count": null,
   "id": "bea24f2e",
   "metadata": {},
   "outputs": [],
   "source": [
    "if __name__ == \"__main__\":\n",
    "    students = []\n",
    "    scores = []\n",
    "    for _ in range(int(input())):\n",
    "        name = input()\n",
    "        score = float(input())\n",
    "        student = [name, score]\n",
    "        students.append(student)\n",
    "        scores.append(score)\n",
    "    second_min_score = sorted(set(scores))[1]\n",
    "    student_names = sorted(\n",
    "        [student[0] for student in students if student[1] == second_min_score]\n",
    "    )\n",
    "    print(\"\\n\".join(student_names))"
   ]
  },
  {
   "cell_type": "code",
   "execution_count": null,
   "id": "d7fd2925",
   "metadata": {},
   "outputs": [],
   "source": [
    "if __name__ == \"__main__\":\n",
    "    n = int(input())\n",
    "    student_marks = {}\n",
    "    for _ in range(n):\n",
    "        name, *line = input().split()\n",
    "        scores = list(map(float, line))\n",
    "        student_marks[name] = scores\n",
    "    query_name = input()\n",
    "    avg_score = sum(student_marks[query_name]) / len(student_marks[query_name])\n",
    "    print(f\"{avg_score:.2f}\")"
   ]
  },
  {
   "cell_type": "code",
   "execution_count": null,
   "id": "a38e3eb9",
   "metadata": {},
   "outputs": [],
   "source": [
    "if __name__ == \"__main__\":\n",
    "    N = int(input())\n",
    "    ar = []\n",
    "    for i in range(N):\n",
    "        command_args = input().strip().split(\" \")\n",
    "        cmd = command_args[0]\n",
    "        if cmd == \"print\":\n",
    "            print(ar)\n",
    "        elif cmd == \"sort\":\n",
    "            ar.sort()\n",
    "        elif cmd == \"reverse\":\n",
    "            ar.reverse()\n",
    "        elif cmd == \"pop\":\n",
    "            ar.pop()\n",
    "        elif cmd == \"remove\":\n",
    "            val = int(command_args[1])\n",
    "            ar.remove(val)\n",
    "        elif cmd == \"append\":\n",
    "            val = int(command_args[1])\n",
    "            ar.append(val)\n",
    "        elif cmd == \"insert\":\n",
    "            pos = int(command_args[1])\n",
    "            val = int(command_args[2])\n",
    "            ar.insert(pos, val)\n"
   ]
  },
  {
   "cell_type": "code",
   "execution_count": null,
   "id": "49d9818b",
   "metadata": {},
   "outputs": [],
   "source": [
    "if __name__ == \"__main__\":\n",
    "    n = int(input())\n",
    "    integer_list = map(int, input().split())\n",
    "    t = tuple(integer_list)\n",
    "    print(hash(t))\n"
   ]
  },
  {
   "cell_type": "code",
   "execution_count": null,
   "id": "35c1a186",
   "metadata": {},
   "outputs": [],
   "source": [
    "from collections import Counter\n",
    "\n",
    "n, m = map(int, input().split())\n",
    "data = list(map(int, input().split()))\n",
    "data_counter = Counter(data)\n",
    "data_set = set(data)\n",
    "set_a = set(map(int, input().split()))\n",
    "set_b = set(map(int, input().split()))\n",
    "happiness = 0\n",
    "for i in data_set & set_a:\n",
    "    happiness += data_counter[i]\n",
    "for i in data_set & set_b:\n",
    "    happiness -= data_counter[i]\n",
    "print(happiness)"
   ]
  },
  {
   "cell_type": "code",
   "execution_count": null,
   "id": "bb8f40a8",
   "metadata": {},
   "outputs": [],
   "source": [
    "m = int(input())\n",
    "set_a = set(map(int, input().split()))\n",
    "n = int(input())\n",
    "set_b = set(map(int, input().split()))\n",
    "set_a_diff = set_a.difference(set_b)\n",
    "set_b_diff = set_b.difference(set_a)\n",
    "for i in sorted(set_a_diff.union(set_b_diff)):\n",
    "    print(i)"
   ]
  },
  {
   "cell_type": "code",
   "execution_count": null,
   "id": "d18b374c",
   "metadata": {},
   "outputs": [],
   "source": [
    "n = int(input())\n",
    "country_set = set()\n",
    "for _ in range(n):\n",
    "    country_name = input()\n",
    "    country_set.add(country_name)\n",
    "print(len(country_set))"
   ]
  },
  {
   "cell_type": "code",
   "execution_count": null,
   "id": "59adf1ea",
   "metadata": {},
   "outputs": [],
   "source": [
    "number_of_elements = int(input())\n",
    "elements = set(map(int, input().split()))\n",
    "number_of_commands = int(input())\n",
    "for _ in range(number_of_commands):\n",
    "    cmd = list(input().split())\n",
    "    if len(cmd) == 1:\n",
    "        elements.pop()\n",
    "    else:\n",
    "        value = int(cmd[1])\n",
    "        operation = cmd[0]\n",
    "        if operation == \"discard\":\n",
    "            elements.discard(value)\n",
    "        else:\n",
    "            elements.remove(value)\n",
    "print(sum(elements))"
   ]
  },
  {
   "cell_type": "code",
   "execution_count": null,
   "id": "8afcd2a2",
   "metadata": {},
   "outputs": [],
   "source": [
    "number_of_english_subscribers = input()\n",
    "english_subscribers = set(map(int, input().split()))\n",
    "number_of_french_subscribers = input()\n",
    "french_subscribers = set(map(int, input().split()))\n",
    "print(len(english_subscribers.union(french_subscribers)))\n"
   ]
  },
  {
   "cell_type": "code",
   "execution_count": null,
   "id": "ea570f08",
   "metadata": {},
   "outputs": [],
   "source": [
    "number_of_english_subscribers = input()\n",
    "english_subscribers = set(map(int, input().split()))\n",
    "number_of_french_subscribers = input()\n",
    "french_subscribers = set(map(int, input().split()))\n",
    "print(len(english_subscribers.intersection(french_subscribers)))\n",
    "# Alternative solution\n",
    "# print(len(english_subscribers & french_subscribers))\n"
   ]
  },
  {
   "cell_type": "code",
   "execution_count": null,
   "id": "5f966512",
   "metadata": {},
   "outputs": [],
   "source": [
    "number_of_english_subscribers = input()\n",
    "english_subscribers = set(map(int, input().split()))\n",
    "number_of_french_subscribers = input()\n",
    "french_subscribers = set(map(int, input().split()))\n",
    "print(len(english_subscribers.difference(french_subscribers)))\n",
    "# Alternative solution\n",
    "# print(len(english_subscribers - french_subscribers))"
   ]
  },
  {
   "cell_type": "code",
   "execution_count": null,
   "id": "b81a9c57",
   "metadata": {},
   "outputs": [],
   "source": [
    "number_of_english_subscribers = input()\n",
    "english_subscribers = set(map(int, input().split()))\n",
    "number_of_french_subscribers = input()\n",
    "french_subscribers = set(map(int, input().split()))\n",
    "print(len(english_subscribers.symmetric_difference(french_subscribers)))\n",
    "# Alternative solution\n",
    "# print(len(english_subscribers ^ french_subscribers))"
   ]
  },
  {
   "cell_type": "code",
   "execution_count": null,
   "id": "1d4d4da2",
   "metadata": {},
   "outputs": [],
   "source": [
    "number_of_elements = int(input())\n",
    "initial_set = set(map(int, input().split()))\n",
    "number_of_other_sets = int(input())\n",
    "for _ in range(number_of_other_sets):\n",
    "    cmd = input().split()\n",
    "    opt = cmd[0]\n",
    "    other_set = set(map(int, input().split()))\n",
    "    if opt == \"difference_update\":\n",
    "        initial_set.difference_update(other_set)\n",
    "    elif opt == \"intersection_update\":\n",
    "        initial_set.intersection_update(other_set)\n",
    "    elif opt == \"symmetric_difference_update\":\n",
    "        initial_set.symmetric_difference_update(other_set)\n",
    "    elif opt == \"update\":\n",
    "        initial_set.update(other_set)\n",
    "print(sum(initial_set))"
   ]
  },
  {
   "cell_type": "code",
   "execution_count": null,
   "id": "ed8bd417",
   "metadata": {},
   "outputs": [],
   "source": [
    "k = int(input())\n",
    "room_number_list = list(map(int, input().split()))\n",
    "room_number_set = set(room_number_list)\n",
    "room_number_list_sum = sum(room_number_list)\n",
    "room_number_set_sum = sum(room_number_set) * k\n",
    "diff = room_number_set_sum - room_number_list_sum\n",
    "for i in room_number_set:\n",
    "    if diff == ((k - 1) * i):\n",
    "        print(i)\n",
    "        break"
   ]
  },
  {
   "cell_type": "code",
   "execution_count": null,
   "id": "407f7993",
   "metadata": {},
   "outputs": [],
   "source": [
    "number_of_testcases = int(input())\n",
    "for _ in range(number_of_testcases):\n",
    "    number_of_elements_first_set = int(input())\n",
    "    first_set = set(map(int, input().split()))\n",
    "    number_of_elements_second_set = int(input())\n",
    "    second_set = set(map(int, input().split()))\n",
    "    print(first_set.issubset(second_set))"
   ]
  },
  {
   "cell_type": "code",
   "execution_count": null,
   "id": "1f197153",
   "metadata": {},
   "outputs": [],
   "source": [
    "first_set = set(map(int, input().split()))\n",
    "number_of_other_sets = int(input())\n",
    "is_strict_superset = True\n",
    "for _ in range(number_of_other_sets):\n",
    "    other_set = set(map(int, input().split()))\n",
    "    if not first_set.issuperset(other_set):\n",
    "        is_strict_superset = False\n",
    "print(is_strict_superset)"
   ]
  }
 ],
 "metadata": {
  "kernelspec": {
   "display_name": "Python 3",
   "language": "python",
   "name": "python3"
  },
  "language_info": {
   "codemirror_mode": {
    "name": "ipython",
    "version": 3
   },
   "file_extension": ".py",
   "mimetype": "text/x-python",
   "name": "python",
   "nbconvert_exporter": "python",
   "pygments_lexer": "ipython3",
   "version": "3.8.8"
  }
 },
 "nbformat": 4,
 "nbformat_minor": 5
}
